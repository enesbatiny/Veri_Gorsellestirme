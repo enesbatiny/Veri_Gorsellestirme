{
 "cells": [
  {
   "cell_type": "markdown",
   "metadata": {},
   "source": [
    "# Time-series Plots"
   ]
  },
  {
   "cell_type": "code",
   "execution_count": 1,
   "metadata": {
    "collapsed": true
   },
   "outputs": [
    {
     "name": "stdout",
     "output_type": "stream",
     "text": [
      "Collecting pandas_datareader\n",
      "  Downloading pandas_datareader-0.9.0-py3-none-any.whl (107 kB)\n",
      "Requirement already satisfied: pandas>=0.23 in c:\\users\\enesb\\anaconda3\\lib\\site-packages (from pandas_datareader) (1.0.5)\n",
      "Requirement already satisfied: lxml in c:\\users\\enesb\\anaconda3\\lib\\site-packages (from pandas_datareader) (4.5.2)\n",
      "Requirement already satisfied: requests>=2.19.0 in c:\\users\\enesb\\anaconda3\\lib\\site-packages (from pandas_datareader) (2.24.0)\n",
      "Requirement already satisfied: python-dateutil>=2.6.1 in c:\\users\\enesb\\appdata\\roaming\\python\\python38\\site-packages (from pandas>=0.23->pandas_datareader) (2.8.1)\n",
      "Requirement already satisfied: numpy>=1.13.3 in c:\\users\\enesb\\anaconda3\\lib\\site-packages (from pandas>=0.23->pandas_datareader) (1.18.5)\n",
      "Requirement already satisfied: pytz>=2017.2 in c:\\users\\enesb\\anaconda3\\lib\\site-packages (from pandas>=0.23->pandas_datareader) (2020.1)\n",
      "Requirement already satisfied: chardet<4,>=3.0.2 in c:\\users\\enesb\\anaconda3\\lib\\site-packages (from requests>=2.19.0->pandas_datareader) (3.0.4)\n",
      "Requirement already satisfied: idna<3,>=2.5 in c:\\users\\enesb\\anaconda3\\lib\\site-packages (from requests>=2.19.0->pandas_datareader) (2.10)\n",
      "Requirement already satisfied: urllib3!=1.25.0,!=1.25.1,<1.26,>=1.21.1 in c:\\users\\enesb\\anaconda3\\lib\\site-packages (from requests>=2.19.0->pandas_datareader) (1.25.9)\n",
      "Requirement already satisfied: certifi>=2017.4.17 in c:\\users\\enesb\\anaconda3\\lib\\site-packages (from requests>=2.19.0->pandas_datareader) (2020.6.20)\n",
      "Requirement already satisfied: six>=1.5 in c:\\users\\enesb\\anaconda3\\lib\\site-packages (from python-dateutil>=2.6.1->pandas>=0.23->pandas_datareader) (1.15.0)\n",
      "Installing collected packages: pandas-datareader\n",
      "Successfully installed pandas-datareader-0.9.0\n"
     ]
    }
   ],
   "source": [
    "!pip install pandas_datareader"
   ]
  },
  {
   "cell_type": "code",
   "execution_count": 28,
   "metadata": {},
   "outputs": [],
   "source": [
    "import pandas_datareader as pr\n",
    "import pandas as  pd"
   ]
  },
  {
   "cell_type": "code",
   "execution_count": 15,
   "metadata": {},
   "outputs": [],
   "source": [
    "df = pr.get_data_yahoo(\"BNTX\", start = \"2019-01-01\", end=\"2021-01-01\")\n",
    "#BioNTech stock prices,datas"
   ]
  },
  {
   "cell_type": "code",
   "execution_count": 16,
   "metadata": {},
   "outputs": [
    {
     "data": {
      "text/html": [
       "<div>\n",
       "<style scoped>\n",
       "    .dataframe tbody tr th:only-of-type {\n",
       "        vertical-align: middle;\n",
       "    }\n",
       "\n",
       "    .dataframe tbody tr th {\n",
       "        vertical-align: top;\n",
       "    }\n",
       "\n",
       "    .dataframe thead th {\n",
       "        text-align: right;\n",
       "    }\n",
       "</style>\n",
       "<table border=\"1\" class=\"dataframe\">\n",
       "  <thead>\n",
       "    <tr style=\"text-align: right;\">\n",
       "      <th></th>\n",
       "      <th>High</th>\n",
       "      <th>Low</th>\n",
       "      <th>Open</th>\n",
       "      <th>Close</th>\n",
       "      <th>Volume</th>\n",
       "      <th>Adj Close</th>\n",
       "    </tr>\n",
       "    <tr>\n",
       "      <th>Date</th>\n",
       "      <th></th>\n",
       "      <th></th>\n",
       "      <th></th>\n",
       "      <th></th>\n",
       "      <th></th>\n",
       "      <th></th>\n",
       "    </tr>\n",
       "  </thead>\n",
       "  <tbody>\n",
       "    <tr>\n",
       "      <th>2020-12-03</th>\n",
       "      <td>121.800003</td>\n",
       "      <td>115.000000</td>\n",
       "      <td>119.849998</td>\n",
       "      <td>118.680000</td>\n",
       "      <td>4264600</td>\n",
       "      <td>118.680000</td>\n",
       "    </tr>\n",
       "    <tr>\n",
       "      <th>2020-12-04</th>\n",
       "      <td>120.750000</td>\n",
       "      <td>114.419998</td>\n",
       "      <td>117.842003</td>\n",
       "      <td>120.000000</td>\n",
       "      <td>3142600</td>\n",
       "      <td>120.000000</td>\n",
       "    </tr>\n",
       "    <tr>\n",
       "      <th>2020-12-07</th>\n",
       "      <td>126.379997</td>\n",
       "      <td>121.000000</td>\n",
       "      <td>121.000000</td>\n",
       "      <td>125.699997</td>\n",
       "      <td>4925300</td>\n",
       "      <td>125.699997</td>\n",
       "    </tr>\n",
       "    <tr>\n",
       "      <th>2020-12-08</th>\n",
       "      <td>129.899994</td>\n",
       "      <td>126.500000</td>\n",
       "      <td>127.000000</td>\n",
       "      <td>128.110001</td>\n",
       "      <td>4597500</td>\n",
       "      <td>128.110001</td>\n",
       "    </tr>\n",
       "    <tr>\n",
       "      <th>2020-12-09</th>\n",
       "      <td>129.050003</td>\n",
       "      <td>116.580002</td>\n",
       "      <td>128.990005</td>\n",
       "      <td>122.809998</td>\n",
       "      <td>5265200</td>\n",
       "      <td>122.809998</td>\n",
       "    </tr>\n",
       "    <tr>\n",
       "      <th>2020-12-10</th>\n",
       "      <td>129.949997</td>\n",
       "      <td>123.199997</td>\n",
       "      <td>123.820000</td>\n",
       "      <td>129.539993</td>\n",
       "      <td>5381300</td>\n",
       "      <td>129.539993</td>\n",
       "    </tr>\n",
       "    <tr>\n",
       "      <th>2020-12-11</th>\n",
       "      <td>131.000000</td>\n",
       "      <td>124.639999</td>\n",
       "      <td>130.100006</td>\n",
       "      <td>127.300003</td>\n",
       "      <td>4303700</td>\n",
       "      <td>127.300003</td>\n",
       "    </tr>\n",
       "    <tr>\n",
       "      <th>2020-12-14</th>\n",
       "      <td>127.000000</td>\n",
       "      <td>105.250000</td>\n",
       "      <td>126.628998</td>\n",
       "      <td>108.269997</td>\n",
       "      <td>10907900</td>\n",
       "      <td>108.269997</td>\n",
       "    </tr>\n",
       "    <tr>\n",
       "      <th>2020-12-15</th>\n",
       "      <td>116.260002</td>\n",
       "      <td>108.330002</td>\n",
       "      <td>114.209999</td>\n",
       "      <td>111.199997</td>\n",
       "      <td>5711800</td>\n",
       "      <td>111.199997</td>\n",
       "    </tr>\n",
       "    <tr>\n",
       "      <th>2020-12-16</th>\n",
       "      <td>112.849998</td>\n",
       "      <td>102.330002</td>\n",
       "      <td>112.220001</td>\n",
       "      <td>105.779999</td>\n",
       "      <td>4802600</td>\n",
       "      <td>105.779999</td>\n",
       "    </tr>\n",
       "    <tr>\n",
       "      <th>2020-12-17</th>\n",
       "      <td>107.589996</td>\n",
       "      <td>101.620003</td>\n",
       "      <td>102.635002</td>\n",
       "      <td>106.430000</td>\n",
       "      <td>3487800</td>\n",
       "      <td>106.430000</td>\n",
       "    </tr>\n",
       "    <tr>\n",
       "      <th>2020-12-18</th>\n",
       "      <td>106.769997</td>\n",
       "      <td>102.570000</td>\n",
       "      <td>106.459999</td>\n",
       "      <td>104.239998</td>\n",
       "      <td>3108200</td>\n",
       "      <td>104.239998</td>\n",
       "    </tr>\n",
       "    <tr>\n",
       "      <th>2020-12-21</th>\n",
       "      <td>107.970001</td>\n",
       "      <td>104.570000</td>\n",
       "      <td>107.510002</td>\n",
       "      <td>106.459999</td>\n",
       "      <td>2611000</td>\n",
       "      <td>106.459999</td>\n",
       "    </tr>\n",
       "    <tr>\n",
       "      <th>2020-12-22</th>\n",
       "      <td>107.209999</td>\n",
       "      <td>95.599998</td>\n",
       "      <td>107.070000</td>\n",
       "      <td>100.559998</td>\n",
       "      <td>5021000</td>\n",
       "      <td>100.559998</td>\n",
       "    </tr>\n",
       "    <tr>\n",
       "      <th>2020-12-23</th>\n",
       "      <td>100.500000</td>\n",
       "      <td>95.000000</td>\n",
       "      <td>97.120003</td>\n",
       "      <td>100.059998</td>\n",
       "      <td>3414000</td>\n",
       "      <td>100.059998</td>\n",
       "    </tr>\n",
       "    <tr>\n",
       "      <th>2020-12-24</th>\n",
       "      <td>99.889999</td>\n",
       "      <td>96.639999</td>\n",
       "      <td>98.500000</td>\n",
       "      <td>96.959999</td>\n",
       "      <td>1039100</td>\n",
       "      <td>96.959999</td>\n",
       "    </tr>\n",
       "    <tr>\n",
       "      <th>2020-12-28</th>\n",
       "      <td>95.400002</td>\n",
       "      <td>87.070000</td>\n",
       "      <td>95.000000</td>\n",
       "      <td>88.110001</td>\n",
       "      <td>4698900</td>\n",
       "      <td>88.110001</td>\n",
       "    </tr>\n",
       "    <tr>\n",
       "      <th>2020-12-29</th>\n",
       "      <td>89.389999</td>\n",
       "      <td>83.852997</td>\n",
       "      <td>84.449997</td>\n",
       "      <td>88.279999</td>\n",
       "      <td>3300400</td>\n",
       "      <td>88.279999</td>\n",
       "    </tr>\n",
       "    <tr>\n",
       "      <th>2020-12-30</th>\n",
       "      <td>90.889999</td>\n",
       "      <td>83.027000</td>\n",
       "      <td>90.000000</td>\n",
       "      <td>83.940002</td>\n",
       "      <td>2941100</td>\n",
       "      <td>83.940002</td>\n",
       "    </tr>\n",
       "    <tr>\n",
       "      <th>2020-12-31</th>\n",
       "      <td>85.500000</td>\n",
       "      <td>80.550003</td>\n",
       "      <td>83.379997</td>\n",
       "      <td>81.519997</td>\n",
       "      <td>2599000</td>\n",
       "      <td>81.519997</td>\n",
       "    </tr>\n",
       "  </tbody>\n",
       "</table>\n",
       "</div>"
      ],
      "text/plain": [
       "                  High         Low        Open       Close    Volume  \\\n",
       "Date                                                                   \n",
       "2020-12-03  121.800003  115.000000  119.849998  118.680000   4264600   \n",
       "2020-12-04  120.750000  114.419998  117.842003  120.000000   3142600   \n",
       "2020-12-07  126.379997  121.000000  121.000000  125.699997   4925300   \n",
       "2020-12-08  129.899994  126.500000  127.000000  128.110001   4597500   \n",
       "2020-12-09  129.050003  116.580002  128.990005  122.809998   5265200   \n",
       "2020-12-10  129.949997  123.199997  123.820000  129.539993   5381300   \n",
       "2020-12-11  131.000000  124.639999  130.100006  127.300003   4303700   \n",
       "2020-12-14  127.000000  105.250000  126.628998  108.269997  10907900   \n",
       "2020-12-15  116.260002  108.330002  114.209999  111.199997   5711800   \n",
       "2020-12-16  112.849998  102.330002  112.220001  105.779999   4802600   \n",
       "2020-12-17  107.589996  101.620003  102.635002  106.430000   3487800   \n",
       "2020-12-18  106.769997  102.570000  106.459999  104.239998   3108200   \n",
       "2020-12-21  107.970001  104.570000  107.510002  106.459999   2611000   \n",
       "2020-12-22  107.209999   95.599998  107.070000  100.559998   5021000   \n",
       "2020-12-23  100.500000   95.000000   97.120003  100.059998   3414000   \n",
       "2020-12-24   99.889999   96.639999   98.500000   96.959999   1039100   \n",
       "2020-12-28   95.400002   87.070000   95.000000   88.110001   4698900   \n",
       "2020-12-29   89.389999   83.852997   84.449997   88.279999   3300400   \n",
       "2020-12-30   90.889999   83.027000   90.000000   83.940002   2941100   \n",
       "2020-12-31   85.500000   80.550003   83.379997   81.519997   2599000   \n",
       "\n",
       "             Adj Close  \n",
       "Date                    \n",
       "2020-12-03  118.680000  \n",
       "2020-12-04  120.000000  \n",
       "2020-12-07  125.699997  \n",
       "2020-12-08  128.110001  \n",
       "2020-12-09  122.809998  \n",
       "2020-12-10  129.539993  \n",
       "2020-12-11  127.300003  \n",
       "2020-12-14  108.269997  \n",
       "2020-12-15  111.199997  \n",
       "2020-12-16  105.779999  \n",
       "2020-12-17  106.430000  \n",
       "2020-12-18  104.239998  \n",
       "2020-12-21  106.459999  \n",
       "2020-12-22  100.559998  \n",
       "2020-12-23  100.059998  \n",
       "2020-12-24   96.959999  \n",
       "2020-12-28   88.110001  \n",
       "2020-12-29   88.279999  \n",
       "2020-12-30   83.940002  \n",
       "2020-12-31   81.519997  "
      ]
     },
     "execution_count": 16,
     "metadata": {},
     "output_type": "execute_result"
    }
   ],
   "source": [
    "df.tail(20)"
   ]
  },
  {
   "cell_type": "code",
   "execution_count": 17,
   "metadata": {},
   "outputs": [
    {
     "data": {
      "text/plain": [
       "(310, 6)"
      ]
     },
     "execution_count": 17,
     "metadata": {},
     "output_type": "execute_result"
    }
   ],
   "source": [
    "df.shape"
   ]
  },
  {
   "cell_type": "code",
   "execution_count": 18,
   "metadata": {},
   "outputs": [],
   "source": [
    "kapanis = df[\"Close\"]"
   ]
  },
  {
   "cell_type": "code",
   "execution_count": 21,
   "metadata": {},
   "outputs": [
    {
     "data": {
      "image/png": "[encoded data removed]",
      "text/plain": [
       "<Figure size 432x288 with 1 Axes>"
      ]
     },
     "metadata": {
      "needs_background": "light"
     },
     "output_type": "display_data"
    }
   ],
   "source": [
    "kapanis.plot();"
   ]
  },
  {
   "cell_type": "code",
   "execution_count": 26,
   "metadata": {},
   "outputs": [
    {
     "data": {
      "text/plain": [
       "DatetimeIndex(['2019-10-10', '2019-10-11', '2019-10-14', '2019-10-15',\n",
       "               '2019-10-16', '2019-10-17', '2019-10-18', '2019-10-21',\n",
       "               '2019-10-22', '2019-10-23',\n",
       "               ...\n",
       "               '2020-12-17', '2020-12-18', '2020-12-21', '2020-12-22',\n",
       "               '2020-12-23', '2020-12-24', '2020-12-28', '2020-12-29',\n",
       "               '2020-12-30', '2020-12-31'],\n",
       "              dtype='datetime64[ns]', name='Date', length=310, freq=None)"
      ]
     },
     "execution_count": 26,
     "metadata": {},
     "output_type": "execute_result"
    }
   ],
   "source": [
    "kapanis.index"
   ]
  },
  {
   "cell_type": "code",
   "execution_count": 29,
   "metadata": {},
   "outputs": [],
   "source": [
    "kapanis.index = pd.DatetimeIndex(kapanis.index)"
   ]
  },
  {
   "cell_type": "code",
   "execution_count": 30,
   "metadata": {},
   "outputs": [
    {
     "data": {
      "text/plain": [
       "Date\n",
       "2019-10-10    14.24\n",
       "2019-10-11    13.82\n",
       "2019-10-14    12.75\n",
       "2019-10-15    12.92\n",
       "2019-10-16    12.94\n",
       "Name: Close, dtype: float64"
      ]
     },
     "execution_count": 30,
     "metadata": {},
     "output_type": "execute_result"
    }
   ],
   "source": [
    "kapanis.head()"
   ]
  },
  {
   "cell_type": "code",
   "execution_count": 31,
   "metadata": {},
   "outputs": [
    {
     "data": {
      "text/plain": [
       "Date\n",
       "2020-03-19    59.299999\n",
       "2020-03-20    46.500000\n",
       "2020-03-23    51.310001\n",
       "2020-03-24    53.639999\n",
       "2020-03-25    47.200001\n",
       "                ...    \n",
       "2020-12-24    96.959999\n",
       "2020-12-28    88.110001\n",
       "2020-12-29    88.279999\n",
       "2020-12-30    83.940002\n",
       "2020-12-31    81.519997\n",
       "Name: Close, Length: 200, dtype: float64"
      ]
     },
     "execution_count": 31,
     "metadata": {},
     "output_type": "execute_result"
    }
   ],
   "source": [
    "kapanis.tail(200)"
   ]
  },
  {
   "cell_type": "code",
   "execution_count": 34,
   "metadata": {},
   "outputs": [
    {
     "data": {
      "image/png": "[encoded data removed]",
      "text/plain": [
       "<Figure size 432x288 with 1 Axes>"
      ]
     },
     "metadata": {
      "needs_background": "light"
     },
     "output_type": "display_data"
    }
   ],
   "source": [
    "kapanis.plot();"
   ]
  },
  {
   "cell_type": "code",
   "execution_count": null,
   "metadata": {},
   "outputs": [],
   "source": []
  }
 ],
 "metadata": {
  "kernelspec": {
   "display_name": "Python 3",
   "language": "python",
   "name": "python3"
  },
  "language_info": {
   "codemirror_mode": {
    "name": "ipython",
    "version": 3
   },
   "file_extension": ".py",
   "mimetype": "text/x-python",
   "name": "python",
   "nbconvert_exporter": "python",
   "pygments_lexer": "ipython3",
   "version": "3.8.3"
  }
 },
 "nbformat": 4,
 "nbformat_minor": 4
}
